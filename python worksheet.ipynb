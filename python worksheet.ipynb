{
 "cells": [
  {
   "cell_type": "code",
   "execution_count": 4,
   "id": "582ebd5f",
   "metadata": {},
   "outputs": [
    {
     "name": "stdout",
     "output_type": "stream",
     "text": [
      "enter num: 6\n",
      "The factorial of 6 is 720\n"
     ]
    }
   ],
   "source": [
    "import math\n",
    "\n",
    "num =int(input(\"enter num: \"))\n",
    "fact = math.factorial(num)\n",
    "\n",
    "print(\"The factorial of\", num, \"is\", fact)"
   ]
  },
  {
   "cell_type": "code",
   "execution_count": 5,
   "id": "2a00b959",
   "metadata": {},
   "outputs": [
    {
     "name": "stdout",
     "output_type": "stream",
     "text": [
      "enter no. you want to check: 67\n",
      "Prime\n"
     ]
    }
   ],
   "source": [
    "num = int(input(\"enter no. you want to check: \"))\n",
    "def checkPrime(num,n=2):\n",
    "  if num == n:\n",
    "    return True\n",
    "  if num%n==0:\n",
    "    return False\n",
    "  if num<2:\n",
    "    return False\n",
    "  return checkPrime(num,n+1)\n",
    "if checkPrime(num)==True:\n",
    "  print(\"Prime\")\n",
    "else:\n",
    "  print(\"Not Prime\")\n"
   ]
  },
  {
   "cell_type": "code",
   "execution_count": 6,
   "id": "e3ed42aa",
   "metadata": {},
   "outputs": [
    {
     "name": "stdout",
     "output_type": "stream",
     "text": [
      "enter string: madam\n",
      "A pallindrome\n"
     ]
    }
   ],
   "source": [
    "str= input(\"enter string: \")\n",
    "str1= reversed(str)\n",
    "if list(str)==list(str1):\n",
    "  print(\"A pallindrome\")\n",
    "else:\n",
    "  print(\"not a pallindrome\")\n"
   ]
  },
  {
   "cell_type": "code",
   "execution_count": 7,
   "id": "abba977c",
   "metadata": {},
   "outputs": [
    {
     "name": "stdout",
     "output_type": "stream",
     "text": [
      "enter base12\n",
      "enter perpendicular or height5\n",
      "hypotenuse:  13.0\n"
     ]
    }
   ],
   "source": [
    "import math\n",
    "a= int(input(\"enter base\"))\n",
    "b= int(input(\"enter perpendicular or height\"))\n",
    "c = math.sqrt(a**2+b**2)\n",
    "print(\"hypotenuse: \",c)"
   ]
  },
  {
   "cell_type": "code",
   "execution_count": 14,
   "id": "7375fea5",
   "metadata": {},
   "outputs": [
    {
     "name": "stdout",
     "output_type": "stream",
     "text": [
      "enter string: datatrained\n",
      "Counter({'a': 3, 'd': 2, 't': 2, 'r': 1, 'i': 1, 'n': 1, 'e': 1})\n"
     ]
    }
   ],
   "source": [
    "from collections import Counter\n",
    "string = input(\"enter string: \")\n",
    "\n",
    "output = Counter(string)\n",
    "\n",
    "print(output)"
   ]
  },
  {
   "cell_type": "code",
   "execution_count": null,
   "id": "32cb38f0",
   "metadata": {},
   "outputs": [],
   "source": []
  }
 ],
 "metadata": {
  "kernelspec": {
   "display_name": "Python 3 (ipykernel)",
   "language": "python",
   "name": "python3"
  },
  "language_info": {
   "codemirror_mode": {
    "name": "ipython",
    "version": 3
   },
   "file_extension": ".py",
   "mimetype": "text/x-python",
   "name": "python",
   "nbconvert_exporter": "python",
   "pygments_lexer": "ipython3",
   "version": "3.10.9"
  }
 },
 "nbformat": 4,
 "nbformat_minor": 5
}
