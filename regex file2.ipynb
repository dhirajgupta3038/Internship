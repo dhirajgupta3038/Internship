{
 "cells": [
  {
   "cell_type": "code",
   "execution_count": 2,
   "id": "6b463d3a",
   "metadata": {},
   "outputs": [
    {
     "name": "stdout",
     "output_type": "stream",
     "text": [
      "Python:Exercises::PHP:exercises\n"
     ]
    }
   ],
   "source": [
    "import re\n",
    "sample_text = 'Python Exercises, PHP exercises'\n",
    "print(re.sub(\"[ ,.]\", \":\", sample_text)) "
   ]
  },
  {
   "cell_type": "code",
   "execution_count": 5,
   "id": "0a42769f",
   "metadata": {},
   "outputs": [
    {
     "name": "stdout",
     "output_type": "stream",
     "text": [
      "         SUMMARY\n",
      "0    hello world\n",
      "1           test\n",
      "2  four five six\n"
     ]
    }
   ],
   "source": [
    "   import pandas as pd\n",
    "   import re\n",
    "   Dictionary= {'SUMMARY' : ['hello, world!', 'XXXXX test', '123four, five:; six...']}\n",
    "   df = pd.DataFrame(Dictionary)\n",
    "   df['SUMMARY'] = df['SUMMARY'].apply(lambda x: re.sub('[^A-Wa-z\\s]+', '', x))\n",
    "   print(df)"
   ]
  },
  {
   "cell_type": "code",
   "execution_count": 6,
   "id": "de54b501",
   "metadata": {},
   "outputs": [
    {
     "name": "stdout",
     "output_type": "stream",
     "text": [
      "['Name', 'Data']\n"
     ]
    }
   ],
   "source": [
    "import re\n",
    "\n",
    "def find_allwords(example):\n",
    "  pattern = re.compile(r'\\b\\w{4}\\b')\n",
    "  matches = pattern.findall(example)\n",
    "  return matches\n",
    "\n",
    "\n",
    "sample = \"My Name is Dhiraj Kumar, I am a student of Data Analytics \"\n",
    "result = find_allwords(sample)\n",
    "print(result)\n"
   ]
  },
  {
   "cell_type": "code",
   "execution_count": 7,
   "id": "f0c75f85",
   "metadata": {},
   "outputs": [
    {
     "name": "stdout",
     "output_type": "stream",
     "text": [
      "['Name', 'Kumar', 'Data']\n"
     ]
    }
   ],
   "source": [
    "import re\n",
    "\n",
    "def find_allwords(example):\n",
    "  pattern = re.compile(r'\\b\\w{3,5}\\b')\n",
    "  matches = pattern.findall(example)\n",
    "  return matches\n",
    "\n",
    "\n",
    "sample = \"My Name is Dhiraj Kumar, I am a student of Data Analytics \"\n",
    "result = find_allwords(sample)\n",
    "print(result)"
   ]
  },
  {
   "cell_type": "code",
   "execution_count": 8,
   "id": "46a2b8fc",
   "metadata": {},
   "outputs": [
    {
     "name": "stdout",
     "output_type": "stream",
     "text": [
      "example .com\n",
      "hr@fliprobo .com\n",
      "github .com\n",
      "Hello Data Science World\n",
      "Data Scientist\n"
     ]
    }
   ],
   "source": [
    "import re\n",
    "\n",
    "def remove_parenthesis(Sample_text):\n",
    "    pattern = re.compile(r'\\(|\\)')\n",
    "    new = [pattern.sub('', string) for string in Sample_text]\n",
    "    for string in new:\n",
    "        print(string)\n",
    "\n",
    "Sample_text =  [\"example (.com)\", \"hr@fliprobo (.com)\", \"github (.com)\", \"Hello (Data Science World)\", \n",
    "\"Data (Scientist)\"]\n",
    "\n",
    "remove_parenthesis(Sample_text)"
   ]
  },
  {
   "cell_type": "code",
   "execution_count": 9,
   "id": "c017be90",
   "metadata": {},
   "outputs": [
    {
     "name": "stdout",
     "output_type": "stream",
     "text": [
      "['example .com', 'hr@fliprobo .com', 'github .com', 'Hello Data Science World', 'Data Scientist']\n"
     ]
    }
   ],
   "source": [
    "import re\n",
    "\n",
    "def remove_parenthesis(strings):\n",
    "  pt = re.compile(r\"[()]\")\n",
    "  modified_strings = []\n",
    "  for string in strings:\n",
    "    modified_string = re.sub(pt, \"\", string)\n",
    "    modified_strings.append(modified_string)\n",
    "  return modified_strings\n",
    "\n",
    "\n",
    "text = [\"example (.com)\", \"hr@fliprobo (.com)\", \"github (.com)\", \"Hello (Data Science World)\", \"Data (Scientist)\"]\n",
    "result = remove_parenthesis(text)\n",
    "print(result)"
   ]
  },
  {
   "cell_type": "code",
   "execution_count": 10,
   "id": "77b952eb",
   "metadata": {},
   "outputs": [
    {
     "name": "stdout",
     "output_type": "stream",
     "text": [
      "['Importance', 'Of', 'Regular', 'Expressions', 'In', 'Python']\n"
     ]
    }
   ],
   "source": [
    "import re\n",
    "Sample = \"ImportanceOfRegularExpressionsInPython\"\n",
    "print(re.findall('[A-Z][^A-Z]*', Sample))"
   ]
  },
  {
   "cell_type": "code",
   "execution_count": 11,
   "id": "9dbfe13b",
   "metadata": {},
   "outputs": [
    {
     "name": "stdout",
     "output_type": "stream",
     "text": [
      "RegularExpression 1IsAn 2ImportantTopic 3InPython\n"
     ]
    }
   ],
   "source": [
    "import re\n",
    "\n",
    "def insert_spaces(text):\n",
    "  \n",
    "  pt = r'([a-zA-Z])(\\d)'\n",
    "  result = re.sub(pt, r'\\1 \\2', text)\n",
    "  return result\n",
    "\n",
    "text = \"RegularExpression1IsAn2ImportantTopic3InPython\"\n",
    "output = insert_spaces(text)\n",
    "print(output)"
   ]
  },
  {
   "cell_type": "code",
   "execution_count": 12,
   "id": "a95a21fe",
   "metadata": {},
   "outputs": [
    {
     "name": "stdout",
     "output_type": "stream",
     "text": [
      "RegularExpression 1 IsAn 2 ImportantTopic 3 InPython\n"
     ]
    }
   ],
   "source": [
    "import re\n",
    "\n",
    "def insert_spaces(text):\n",
    "  \n",
    "  pt = r'(\\d+(\\.\\d+)?)'\n",
    "  result = re.sub(pt, r' \\1 ', text)\n",
    "  return result\n",
    "\n",
    "text = \"RegularExpression1IsAn2ImportantTopic3InPython\"\n",
    "output = insert_spaces(text)\n",
    "print(output)"
   ]
  },
  {
   "cell_type": "code",
   "execution_count": 13,
   "id": "cdf4b6c7",
   "metadata": {},
   "outputs": [
    {
     "name": "stdout",
     "output_type": "stream",
     "text": [
      "         Country                           Region  Happiness Rank  \\\n",
      "0    Switzerland                   Western Europe               1   \n",
      "1        Iceland                   Western Europe               2   \n",
      "2        Denmark                   Western Europe               3   \n",
      "3         Norway                   Western Europe               4   \n",
      "4         Canada                    North America               5   \n",
      "..           ...                              ...             ...   \n",
      "153       Rwanda               Sub-Saharan Africa             154   \n",
      "154        Benin               Sub-Saharan Africa             155   \n",
      "155        Syria  Middle East and Northern Africa             156   \n",
      "156      Burundi               Sub-Saharan Africa             157   \n",
      "157         Togo               Sub-Saharan Africa             158   \n",
      "\n",
      "     Happiness Score  Standard Error  Economy (GDP per Capita)   Family  \\\n",
      "0              7.587         0.03411                   1.39651  1.34951   \n",
      "1              7.561         0.04884                   1.30232  1.40223   \n",
      "2              7.527         0.03328                   1.32548  1.36058   \n",
      "3              7.522         0.03880                   1.45900  1.33095   \n",
      "4              7.427         0.03553                   1.32629  1.32261   \n",
      "..               ...             ...                       ...      ...   \n",
      "153            3.465         0.03464                   0.22208  0.77370   \n",
      "154            3.340         0.03656                   0.28665  0.35386   \n",
      "155            3.006         0.05015                   0.66320  0.47489   \n",
      "156            2.905         0.08658                   0.01530  0.41587   \n",
      "157            2.839         0.06727                   0.20868  0.13995   \n",
      "\n",
      "     Health (Life Expectancy)  Freedom  Trust (Government Corruption)  \\\n",
      "0                     0.94143  0.66557                        0.41978   \n",
      "1                     0.94784  0.62877                        0.14145   \n",
      "2                     0.87464  0.64938                        0.48357   \n",
      "3                     0.88521  0.66973                        0.36503   \n",
      "4                     0.90563  0.63297                        0.32957   \n",
      "..                        ...      ...                            ...   \n",
      "153                   0.42864  0.59201                        0.55191   \n",
      "154                   0.31910  0.48450                        0.08010   \n",
      "155                   0.72193  0.15684                        0.18906   \n",
      "156                   0.22396  0.11850                        0.10062   \n",
      "157                   0.28443  0.36453                        0.10731   \n",
      "\n",
      "     Generosity  Dystopia Residual first_five_letters  \n",
      "0       0.29678            2.51738             Switze  \n",
      "1       0.43630            2.70201             Icelan  \n",
      "2       0.34139            2.49204             Denmar  \n",
      "3       0.34699            2.46531             Norway  \n",
      "4       0.45811            2.45176             Canada  \n",
      "..          ...                ...                ...  \n",
      "153     0.22628            0.67042             Rwanda  \n",
      "154     0.18260            1.63328              Benin  \n",
      "155     0.47179            0.32858              Syria  \n",
      "156     0.19727            1.83302             Burund  \n",
      "157     0.16681            1.56726               Togo  \n",
      "\n",
      "[158 rows x 13 columns]\n"
     ]
    }
   ],
   "source": [
    "import pandas as pd\n",
    "\n",
    "def process_data(csv_file):\n",
    "    df = pd.read_csv(csv_file)\n",
    "    df['first_five_letters'] = df['Country'].str[:6]\n",
    "\n",
    "    return df\n",
    "\n",
    "csv_file = 'https://raw.githubusercontent.com/dsrscientist/DSData/master/happiness_score_dataset.csv'\n",
    "df = process_data(csv_file)\n",
    "print(df)"
   ]
  },
  {
   "cell_type": "code",
   "execution_count": 14,
   "id": "9f3cf8ea",
   "metadata": {},
   "outputs": [
    {
     "name": "stdout",
     "output_type": "stream",
     "text": [
      "True\n",
      "False\n"
     ]
    }
   ],
   "source": [
    "import re\n",
    "\n",
    "def is_match(string):\n",
    "    pattern = r'^[A-Za-z0-9_]+$'\n",
    "    if re.match(pattern, string):\n",
    "        return True\n",
    "    else:\n",
    "        return False\n",
    "string = 'Datatrained_Academy123'\n",
    "print(is_match(string)) \n",
    "\n",
    "string = 'Invalid string example'\n",
    "print(is_match(string)) \n"
   ]
  },
  {
   "cell_type": "code",
   "execution_count": 15,
   "id": "44507f58",
   "metadata": {},
   "outputs": [
    {
     "name": "stdout",
     "output_type": "stream",
     "text": [
      "False\n",
      "True\n"
     ]
    }
   ],
   "source": [
    "import re\n",
    "def match_num(string):\n",
    "    text = re.compile(r\"^5\")\n",
    "    if text.match(string):\n",
    "        return True\n",
    "    else:\n",
    "        return False\n",
    "print(match_num('10-234576261'))\n",
    "\n",
    "print(match_num('546537861'))\n"
   ]
  },
  {
   "cell_type": "code",
   "execution_count": 16,
   "id": "d7a751a3",
   "metadata": {},
   "outputs": [
    {
     "name": "stdout",
     "output_type": "stream",
     "text": [
      "453.5.47.132\n"
     ]
    }
   ],
   "source": [
    "import re\n",
    "ip = \"453.05.047.0132\"\n",
    "st = re.sub('\\.[0]*', '.', ip)\n",
    "print(st)"
   ]
  },
  {
   "cell_type": "code",
   "execution_count": 61,
   "id": "3bba310b",
   "metadata": {},
   "outputs": [
    {
     "name": "stdout",
     "output_type": "stream",
     "text": [
      "['August']\n"
     ]
    }
   ],
   "source": [
    "import re \n",
    " \n",
    "sample_text = \"On August 15th 1947 that India was declared independent from British colonialism, and the reins of control were handed over to the leaders of the Country.\" \n",
    " \n",
    "pt = r\"\\b([A-Z][a-z]+) \\d{1,2}(?:st|nd|rd|th)? \\d{4}\\b\" \n",
    " \n",
    "matches = re.findall(pt, sample_text) \n",
    "print(matches)"
   ]
  },
  {
   "cell_type": "code",
   "execution_count": 18,
   "id": "30e4e299",
   "metadata": {},
   "outputs": [
    {
     "name": "stdout",
     "output_type": "stream",
     "text": [
      "Searching for \"fox\" in \"The quick brown fox jumps over the lazy dog.\" ->\n",
      "Matched!\n",
      "Searching for \"dog\" in \"The quick brown fox jumps over the lazy dog.\" ->\n",
      "Matched!\n",
      "Searching for \"horse\" in \"The quick brown fox jumps over the lazy dog.\" ->\n",
      "Not Matched!\n"
     ]
    }
   ],
   "source": [
    "import re\n",
    "pt = [ 'fox', 'dog', 'horse' ]\n",
    "text = 'The quick brown fox jumps over the lazy dog.'\n",
    "for pattern in pt:\n",
    "    print('Searching for \"%s\" in \"%s\" ->' % (pattern, text),)\n",
    "    if re.search(pattern,  text):\n",
    "        print('Matched!')\n",
    "    else:\n",
    "        print('Not Matched!')"
   ]
  },
  {
   "cell_type": "code",
   "execution_count": 19,
   "id": "68c911de",
   "metadata": {},
   "outputs": [
    {
     "name": "stdout",
     "output_type": "stream",
     "text": [
      "Found \"fox\" in \"The quick brown fox jumps over the lazy dog.\" from 16 to 19 \n"
     ]
    }
   ],
   "source": [
    "import re\n",
    "pt = 'fox'\n",
    "sample_text = 'The quick brown fox jumps over the lazy dog.'\n",
    "match = re.search(pt, sample_text)\n",
    "sp = match.start()\n",
    "ep = match.end()\n",
    "print('Found \"%s\" in \"%s\" from %d to %d ' % \\\n",
    "    (match.re.pattern, match.string, sp, ep))\n",
    "\t"
   ]
  },
  {
   "cell_type": "code",
   "execution_count": 20,
   "id": "bc6eabee",
   "metadata": {},
   "outputs": [
    {
     "name": "stdout",
     "output_type": "stream",
     "text": [
      "Found \"exercises\"\n",
      "Found \"exercises\"\n",
      "Found \"exercises\"\n"
     ]
    }
   ],
   "source": [
    "import re\n",
    "sample_text = 'Python exercises, PHP exercises, C# exercises'\n",
    "search = 'exercises'\n",
    "for match in re.findall(search, sample_text):\n",
    "    print('Found \"%s\"' % match)"
   ]
  },
  {
   "cell_type": "code",
   "execution_count": 21,
   "id": "7611a9bf",
   "metadata": {},
   "outputs": [
    {
     "name": "stdout",
     "output_type": "stream",
     "text": [
      "Found \"exercises\" at 7:16\n",
      "Found \"exercises\" at 22:31\n",
      "Found \"exercises\" at 36:45\n"
     ]
    }
   ],
   "source": [
    "import re\n",
    "sample_text = 'Python exercises, PHP exercises, C# exercises'\n",
    "pt = 'exercises'\n",
    "for m in re.finditer(pt, sample_text):\n",
    "    s = m.start()\n",
    "    e = m.end()\n",
    "    print('Found \"%s\" at %d:%d' % (sample_text[s:e], s, e))"
   ]
  },
  {
   "cell_type": "code",
   "execution_count": 22,
   "id": "73a48fa7",
   "metadata": {},
   "outputs": [
    {
     "name": "stdout",
     "output_type": "stream",
     "text": [
      "Original date in YYY-MM-DD Format:  2024-01-09\n",
      "New date in DD-MM-YYYY Format:  09-01-2024\n"
     ]
    }
   ],
   "source": [
    "import re\n",
    "def change_format(dt):\n",
    "        return re.sub(r'(\\d{4})-(\\d{1,2})-(\\d{1,2})', '\\\\3-\\\\2-\\\\1', dt)\n",
    "date = \"2024-01-09\"\n",
    "print(\"Original date in YYY-MM-DD Format: \",date)\n",
    "print(\"New date in DD-MM-YYYY Format: \",change_format(date))\n"
   ]
  },
  {
   "cell_type": "code",
   "execution_count": 23,
   "id": "dd799c37",
   "metadata": {},
   "outputs": [
    {
     "name": "stdout",
     "output_type": "stream",
     "text": [
      "['01.12', '0132.12', '2.31', '145.8', '3.01', '27.25', '0.25']\n"
     ]
    }
   ],
   "source": [
    "import re\n",
    "\n",
    "def decimal_numbers(text):\n",
    "  pt = re.compile(r'\\d+\\.\\d{1,2}')\n",
    "  all_decimal_numbers = re.findall(pt, text)\n",
    "  return all_decimal_numbers\n",
    "\n",
    "\n",
    "sample_text = \"01.12 0132.123 2.31875 145.8 3.01 27.25 0.25\"\n",
    "output = decimal_numbers(sample_text)\n",
    "print(output)"
   ]
  },
  {
   "cell_type": "code",
   "execution_count": 24,
   "id": "1b7df4fa",
   "metadata": {},
   "outputs": [
    {
     "name": "stdout",
     "output_type": "stream",
     "text": [
      "Number: 20, Position: 1\n",
      "Number: 40, Position: 2\n",
      "Number: 866, Position: 3\n"
     ]
    }
   ],
   "source": [
    "import re\n",
    "def find_numbers(input_string):\n",
    "    numbers = re.findall(r'\\b\\d+\\b', input_string)\n",
    "    return [(i, num) for i, num in enumerate(numbers)]\n",
    "\n",
    "input_string = \"My name 20 is 40, 866 dhiraj\"\n",
    "result = find_numbers(input_string)\n",
    "\n",
    "for index, num in result:\n",
    "    print(f\"Number: {num}, Position: {index + 1}\")\n",
    "\t"
   ]
  },
  {
   "cell_type": "code",
   "execution_count": 25,
   "id": "ab830515",
   "metadata": {},
   "outputs": [
    {
     "name": "stdout",
     "output_type": "stream",
     "text": [
      "Max_value: 950\n"
     ]
    }
   ],
   "source": [
    "import re\n",
    "string='My marks in each semester are: 947, 896, 926, 524, 734, 950, 642'\n",
    "num = re.findall('\\d+', string)\n",
    "num = map(int, num)\n",
    "print(\"Max_value:\",max(num))"
   ]
  },
  {
   "cell_type": "code",
   "execution_count": 26,
   "id": "96c216f5",
   "metadata": {},
   "outputs": [
    {
     "name": "stdout",
     "output_type": "stream",
     "text": [
      "Regular Expression Is An Important Topic In Python\n"
     ]
    }
   ],
   "source": [
    "import re\n",
    "text='RegularExpressionIsAnImportantTopicInPython\"'\n",
    "words = re.findall('[A-Z][a-z]*', text)\n",
    "print(' '.join((words)))"
   ]
  },
  {
   "cell_type": "code",
   "execution_count": 27,
   "id": "76658850",
   "metadata": {},
   "outputs": [
    {
     "name": "stdout",
     "output_type": "stream",
     "text": [
      "Found a match!\n",
      "Not matched!\n",
      "Not matched!\n",
      "Not matched!\n"
     ]
    }
   ],
   "source": [
    "import re\n",
    "def letter_match(text):\n",
    "        pt = '[A-Z]+[a-z]+$'\n",
    "        if re.search(pt, text):\n",
    "                return 'Found a match!'\n",
    "        else:\n",
    "                return('Not matched!')\n",
    "print(letter_match(\"DaTa\"))\n",
    "print(letter_match(\"EdUcAtIoN\"))\n",
    "print(letter_match(\"python\"))\n",
    "print(letter_match(\"PYTHON\"))\n"
   ]
  },
  {
   "cell_type": "code",
   "execution_count": 28,
   "id": "00d3e7a9",
   "metadata": {},
   "outputs": [
    {
     "name": "stdout",
     "output_type": "stream",
     "text": [
      "Hello hello world\n"
     ]
    }
   ],
   "source": [
    "import re\n",
    "\n",
    "def remove_Duplicates(text):\n",
    "    regex = r'\\b(\\w+)(?:\\W+\\1\\b)+' \n",
    "    return re.sub(regex, r'\\1', text,)\n",
    "\n",
    "str1 = \"Hello hello world world\"\n",
    "\n",
    "print(remove_Duplicates(str1))"
   ]
  },
  {
   "cell_type": "code",
   "execution_count": 29,
   "id": "b8689507",
   "metadata": {},
   "outputs": [
    {
     "name": "stdout",
     "output_type": "stream",
     "text": [
      "Discard\n",
      "Accept\n",
      "Discard\n",
      "Accept\n"
     ]
    }
   ],
   "source": [
    "import re\n",
    "regex = '[a-zA-z0-9]$'\n",
    "def check(string): \n",
    "\tif(re.search(regex, string)): \n",
    "\t\tprint(\"Accept\") \n",
    "\t\t\n",
    "\telse: \n",
    "\t\tprint(\"Discard\") \n",
    "\t\n",
    "if __name__ == '__main__' : \n",
    "\t\n",
    "\tstring = \"dhiraj@\" \n",
    "\tcheck(string)\n",
    "\n",
    "\tstring = \"ajay326\"\n",
    "\tcheck(string)\n",
    "\n",
    "\tstring = \"ankit.\"\n",
    "\tcheck(string)\n",
    "\n",
    "\tstring = \"datascience\"\n",
    "\tcheck(string)\n"
   ]
  },
  {
   "cell_type": "code",
   "execution_count": 30,
   "id": "f0dd8cf8",
   "metadata": {},
   "outputs": [
    {
     "name": "stdout",
     "output_type": "stream",
     "text": [
      "The hashtags in \"RT @kapil_kausik: #Doltiwal I mean #xyzabc is \"hurt\" by #Demonetization as the same has rendered USELESS <ed><U+00A0><U+00BD><ed><U+00B1><U+0089> \"acquired funds\" No wo\" are :\n",
      "Doltiwal\n",
      "xyzabc\n",
      "Demonetization\n"
     ]
    }
   ],
   "source": [
    "import re\n",
    "def extract_hashtags(text):\n",
    "\n",
    "\tpt = \"#(\\w+)\"\n",
    "\thashtag_list = re.findall(pt, text)\n",
    "\tprint(\"The hashtags in \\\"\" + text + \"\\\" are :\")\n",
    "\tfor hashtag in hashtag_list:\n",
    "\t\tprint(hashtag)\n",
    "\n",
    "if __name__ == \"__main__\":\n",
    "\ttext1 = \"\"\"RT @kapil_kausik: #Doltiwal I mean #xyzabc is \"hurt\" by #Demonetization as the same has rendered USELESS <ed><U+00A0><U+00BD><ed><U+00B1><U+0089> \"acquired funds\" No wo\"\"\"\n",
    "\n",
    "\textract_hashtags(text1)\n",
    "\t"
   ]
  },
  {
   "cell_type": "code",
   "execution_count": 31,
   "id": "0f529c3e",
   "metadata": {},
   "outputs": [
    {
     "name": "stdout",
     "output_type": "stream",
     "text": [
      "@Jags123456 Bharat band on 28??<ed><ed>Those who are protesting #demonetization are all different party leaders\n"
     ]
    }
   ],
   "source": [
    "import re\n",
    "\n",
    "sample_text = \"@Jags123456 Bharat band on 28??<ed><U+00A0><U+00BD><ed><U+00B8><U+0082>Those who are protesting #demonetization are all different party leaders\"\n",
    "\n",
    "pt = r\"<U\\+\\w{4}>\"\n",
    "text = re.sub(pt, \"\", sample_text)\n",
    "\n",
    "print(text)\n"
   ]
  },
  {
   "cell_type": "code",
   "execution_count": 49,
   "id": "2c324dc7",
   "metadata": {},
   "outputs": [
    {
     "name": "stdout",
     "output_type": "stream",
     "text": [
      "12-09-1992\n",
      "15-12-1999\n"
     ]
    }
   ],
   "source": [
    "import re\n",
    "text = \"Ron was born on 12-09-1992 and he was admitted to school 15-12-1999.\"\n",
    "pt = \"\\d{2}[/-]\\d{2}[/-]\\d{4}\"\n",
    "\n",
    "dates = re.findall(pt, text)\n",
    "\n",
    "\n",
    "for date in dates:\n",
    "    if \"-\" in date:\n",
    "        day, month, year = map(int, date.split(\"-\"))\n",
    "    else:\n",
    "        day, month, year = map(int, date.split(\"/\"))\n",
    "    if 1 <= day <= 31 and 1 <= month <= 12:\n",
    "        print(date)\n",
    "\n"
   ]
  },
  {
   "cell_type": "code",
   "execution_count": 46,
   "id": "c38071d1",
   "metadata": {},
   "outputs": [
    {
     "name": "stdout",
     "output_type": "stream",
     "text": [
      " following example creates  ArrayList  a capacity   elements. 4 elements   added   ArrayList   ArrayList  trimmed accordingly.\n"
     ]
    }
   ],
   "source": [
    "import re\n",
    "\n",
    "def remove_all_words(string):\n",
    "  pt = re.compile(r'\\b\\w{2,4}\\b')\n",
    "  modified_string = re.sub(pt, '', string)\n",
    "  return modified_string\n",
    "\n",
    "\n",
    "sample_text = \"The following example creates an ArrayList with a capacity of 50 elements. 4 elements are then added to the ArrayList and the ArrayList is trimmed accordingly.\"\n",
    "\n",
    "result = remove_all_words(sample_text)\n",
    "print(result)"
   ]
  },
  {
   "cell_type": "code",
   "execution_count": null,
   "id": "fe1c02e0",
   "metadata": {},
   "outputs": [],
   "source": []
  }
 ],
 "metadata": {
  "kernelspec": {
   "display_name": "Python 3 (ipykernel)",
   "language": "python",
   "name": "python3"
  },
  "language_info": {
   "codemirror_mode": {
    "name": "ipython",
    "version": 3
   },
   "file_extension": ".py",
   "mimetype": "text/x-python",
   "name": "python",
   "nbconvert_exporter": "python",
   "pygments_lexer": "ipython3",
   "version": "3.10.9"
  }
 },
 "nbformat": 4,
 "nbformat_minor": 5
}
